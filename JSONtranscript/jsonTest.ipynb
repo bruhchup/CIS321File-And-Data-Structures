{
 "cells": [
  {
   "cell_type": "markdown",
   "metadata": {},
   "source": [
    "<h1><b>JSON Transcript</b></h1>"
   ]
  },
  {
   "cell_type": "markdown",
   "metadata": {},
   "source": [
    "This notebook parses a json file and outputs a simple readable transcript in the terminal"
   ]
  },
  {
   "cell_type": "markdown",
   "metadata": {},
   "source": [
    "The json file organizes the transcript by a name object, and a 'Semesters' object that houses each individual semester."
   ]
  },
  {
   "cell_type": "markdown",
   "metadata": {},
   "source": [
    "Students exchanged json files with the goal of the program being able to handle both json files"
   ]
  },
  {
   "cell_type": "code",
   "execution_count": 1,
   "metadata": {},
   "outputs": [],
   "source": [
    "from Transcript import Transcript"
   ]
  },
  {
   "cell_type": "code",
   "execution_count": 2,
   "metadata": {},
   "outputs": [],
   "source": [
    "hayden = Transcript('Hayden_Transcript.json')\n",
    "charles = Transcript('Charles_Transcript.json')"
   ]
  },
  {
   "cell_type": "code",
   "execution_count": 3,
   "metadata": {},
   "outputs": [
    {
     "name": "stdout",
     "output_type": "stream",
     "text": [
      "|----------------------------|\n",
      "| Hayden Banks               |\n",
      "|----------------------------|\n",
      "| Fall 2023                  |\n",
      "|----------------------------|\n",
      "| CIS 314                    |\n",
      "| HIST 120                   |\n",
      "| CIS 301                    |\n",
      "|----------------------------|\n",
      "| Spring 2024                |\n",
      "|----------------------------|\n",
      "| CIS 321                    |\n",
      "| CIS 386                    |\n",
      "| PHIL 208                   |\n",
      "|----------------------------|\n",
      "\n"
     ]
    }
   ],
   "source": [
    "print(hayden)"
   ]
  },
  {
   "cell_type": "code",
   "execution_count": 4,
   "metadata": {},
   "outputs": [
    {
     "name": "stdout",
     "output_type": "stream",
     "text": [
      "|----------------------------|\n",
      "| Charles Moffat             |\n",
      "|----------------------------|\n",
      "| Fall 2023                  |\n",
      "|----------------------------|\n",
      "| CIS 314                    |\n",
      "| HIST 100                   |\n",
      "| MATH 207                   |\n",
      "|----------------------------|\n",
      "| Spring 2024                |\n",
      "|----------------------------|\n",
      "| CIS 321                    |\n",
      "| CIS 310                    |\n",
      "| MATH 254                   |\n",
      "|----------------------------|\n",
      "\n"
     ]
    }
   ],
   "source": [
    "print(charles)"
   ]
  }
 ],
 "metadata": {
  "kernelspec": {
   "display_name": "Python 3",
   "language": "python",
   "name": "python3"
  },
  "language_info": {
   "codemirror_mode": {
    "name": "ipython",
    "version": 3
   },
   "file_extension": ".py",
   "mimetype": "text/x-python",
   "name": "python",
   "nbconvert_exporter": "python",
   "pygments_lexer": "ipython3",
   "version": "3.12.0"
  }
 },
 "nbformat": 4,
 "nbformat_minor": 2
}
