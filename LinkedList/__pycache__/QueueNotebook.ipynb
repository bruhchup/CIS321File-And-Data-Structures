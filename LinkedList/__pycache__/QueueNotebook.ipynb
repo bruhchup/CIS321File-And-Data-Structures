{
 "cells": [
  {
   "cell_type": "markdown",
   "id": "3dbd16d4",
   "metadata": {},
   "source": [
    "<h1><b>Linked Queue</b></h1>\n",
    "\n",
    "<h3>This notebook demonstrates the use of a queue implemented through a linked list</h3>\n",
    "<h3>In this demonstration, the queue will initialize and several elements will be pushed into the queue and then subsequently popped</h3>"
   ]
  },
  {
   "cell_type": "code",
   "execution_count": 1,
   "id": "8befda81",
   "metadata": {},
   "outputs": [],
   "source": [
    "import os\n",
    "from QQ import *"
   ]
  },
  {
   "cell_type": "code",
   "execution_count": 2,
   "id": "1f4bbf6e",
   "metadata": {},
   "outputs": [],
   "source": [
    "#initializes queue\n",
    "queue = Queue()"
   ]
  },
  {
   "cell_type": "code",
   "execution_count": 3,
   "id": "a3a5450f",
   "metadata": {},
   "outputs": [],
   "source": [
    "#pushes integers onto queue\n",
    "queue.push(1)\n",
    "queue.push(2)\n",
    "queue.push(3)\n",
    "queue.push(4)\n",
    "queue.push(5)"
   ]
  },
  {
   "cell_type": "code",
   "execution_count": 4,
   "id": "d08627c0",
   "metadata": {},
   "outputs": [
    {
     "name": "stdout",
     "output_type": "stream",
     "text": [
      "1\n",
      "2\n",
      "3\n",
      "4\n",
      "5\n"
     ]
    }
   ],
   "source": [
    "#pops each element from the queue\n",
    "print(queue.pop())\n",
    "print(queue.pop())\n",
    "print(queue.pop())\n",
    "print(queue.pop())\n",
    "print(queue.pop())"
   ]
  }
 ],
 "metadata": {
  "kernelspec": {
   "display_name": "Python 3 (ipykernel)",
   "language": "python",
   "name": "python3"
  },
  "language_info": {
   "codemirror_mode": {
    "name": "ipython",
    "version": 3
   },
   "file_extension": ".py",
   "mimetype": "text/x-python",
   "name": "python",
   "nbconvert_exporter": "python",
   "pygments_lexer": "ipython3",
   "version": "3.12.0"
  }
 },
 "nbformat": 4,
 "nbformat_minor": 5
}
