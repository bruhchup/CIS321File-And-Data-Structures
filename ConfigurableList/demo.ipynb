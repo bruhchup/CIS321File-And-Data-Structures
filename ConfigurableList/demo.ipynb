{
 "cells": [
  {
   "cell_type": "markdown",
   "metadata": {},
   "source": [
    "<h1><b>Configurable List</b></h1>\n",
    "\n",
    "<h4>This notebook creates a demonstration of a configurable linked list with two states:</br>\n",
    "    <ul>\n",
    "        <li><p><b>Queue:</b> enforces the Linked List to follow the rules of a <u>Queue</u> (FIFO)</li>\n",
    "        <li><p><b>Stack:</b> enforces the Linked List to follow the rules of a <u>Stack</u> (LIFO)</li>\n",
    "    </ul>    \n",
    "</h4>"
   ]
  },
  {
   "cell_type": "markdown",
   "metadata": {},
   "source": [
    "<p>If the 'config' instance variable is set to True; the Linked List will operate as a queue. Inserting new elements to the back of queue and popping elements from the front.</p>    \n",
    "\n",
    "<p>If the 'config' instance variable is set to False; the Linked list will operate as a stack. Inserting new elements to the back of the queue and popping elements from the back of the queue</p>"
   ]
  },
  {
   "cell_type": "code",
   "execution_count": 1,
   "metadata": {},
   "outputs": [],
   "source": [
    "from ConfigList import ConfigList\n",
    "\n",
    "queue = ConfigList(True)\n",
    "stack = ConfigList(False)"
   ]
  },
  {
   "cell_type": "markdown",
   "metadata": {},
   "source": [
    "<p>A tuple of names is generated to insert into both data structures</p>"
   ]
  },
  {
   "cell_type": "code",
   "execution_count": 2,
   "metadata": {},
   "outputs": [],
   "source": [
    "cargo = ('Jack', 'Mary', 'Bob', 'Karsus', 'Mystra', 'Shar')\n",
    "\n",
    "for name in cargo:\n",
    "    queue.insert(name)\n",
    "\n",
    "for name in cargo:\n",
    "    stack.insert(name)"
   ]
  },
  {
   "cell_type": "markdown",
   "metadata": {},
   "source": [
    "<p>Both stack and queue pop off each element, and print it into the terminal</p>"
   ]
  },
  {
   "cell_type": "code",
   "execution_count": 3,
   "metadata": {},
   "outputs": [
    {
     "name": "stdout",
     "output_type": "stream",
     "text": [
      "queue object with size 6:\n",
      "\n",
      "Jack\n",
      "Mary\n",
      "Bob\n",
      "Karsus\n",
      "Mystra\n",
      "Shar\n",
      "\n",
      "stack object with size 6:\n",
      "\n",
      "Shar\n",
      "Mystra\n",
      "Karsus\n",
      "Bob\n",
      "Mary\n",
      "Jack\n"
     ]
    }
   ],
   "source": [
    "print(f'{queue}:\\n')\n",
    "\n",
    "for i in range(queue.size()):\n",
    "    print(queue.pop())\n",
    "\n",
    "print(f'\\n{stack}:\\n')\n",
    "\n",
    "for i in range(stack.size()):\n",
    "    print(stack.pop())\n"
   ]
  }
 ],
 "metadata": {
  "kernelspec": {
   "display_name": "Python 3",
   "language": "python",
   "name": "python3"
  },
  "language_info": {
   "codemirror_mode": {
    "name": "ipython",
    "version": 3
   },
   "file_extension": ".py",
   "mimetype": "text/x-python",
   "name": "python",
   "nbconvert_exporter": "python",
   "pygments_lexer": "ipython3",
   "version": "3.12.0"
  }
 },
 "nbformat": 4,
 "nbformat_minor": 2
}
